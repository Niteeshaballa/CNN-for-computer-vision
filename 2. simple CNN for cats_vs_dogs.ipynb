{
 "cells": [
  {
   "cell_type": "markdown",
   "metadata": {},
   "source": [
    "### Simple CNN Model for cats vs dogs classification "
   ]
  },
  {
   "cell_type": "code",
   "execution_count": 1,
   "metadata": {},
   "outputs": [
    {
     "name": "stderr",
     "output_type": "stream",
     "text": [
      "Using TensorFlow backend.\n"
     ]
    }
   ],
   "source": [
    "from keras.models import Sequential\n",
    "from keras.layers import Dense\n",
    "from keras.layers import Conv2D\n",
    "from keras.layers import MaxPooling2D\n",
    "from keras.layers import Flatten\n",
    "from keras import optimizers\n",
    "from keras.preprocessing.image import ImageDataGenerator"
   ]
  },
  {
   "cell_type": "code",
   "execution_count": 4,
   "metadata": {},
   "outputs": [],
   "source": [
    "model = Sequential()\n",
    "model.add(Conv2D(32, (3,3), activation='relu', input_shape=(150,150,3)))\n",
    "model.add(MaxPooling2D((2,2)))\n",
    "model.add(Conv2D(64, (3,3), activation='relu'))\n",
    "model.add(MaxPooling2D((2,2)))\n",
    "model.add(Conv2D(128, (3,3), activation='relu'))\n",
    "model.add(MaxPooling2D((2,2)))\n",
    "model.add(Conv2D(128, (3,3), activation='relu'))\n",
    "model.add(MaxPooling2D((2,2)))\n",
    "model.add(Flatten())\n",
    "model.add(Dense(512, activation='relu'))\n",
    "model.add(Dense(1, activation='sigmoid'))"
   ]
  },
  {
   "cell_type": "code",
   "execution_count": 5,
   "metadata": {},
   "outputs": [],
   "source": [
    "model.compile(loss='binary_crossentropy', optimizer=optimizers.RMSprop(lr=1e-4), metrics=['accuracy'])"
   ]
  },
  {
   "cell_type": "code",
   "execution_count": 6,
   "metadata": {},
   "outputs": [
    {
     "name": "stdout",
     "output_type": "stream",
     "text": [
      "Found 2000 images belonging to 2 classes.\n",
      "Found 1000 images belonging to 2 classes.\n"
     ]
    }
   ],
   "source": [
    "#generating batches of images from the directories and converting to integers\n",
    "train_dir = r'C:\\Users\\v-nitbal\\Documents\\DL with Python - Francois Chollet\\CNN for computer vision\\cats_and_dogs_small\\train'\n",
    "val_dir = r'C:\\Users\\v-nitbal\\Documents\\DL with Python - Francois Chollet\\CNN for computer vision\\cats_and_dogs_small\\validation'\n",
    "train_datagen = ImageDataGenerator(rescale=1./255)\n",
    "test_datagen = ImageDataGenerator(rescale=1./255)\n",
    "\n",
    "train_generator = train_datagen.flow_from_directory(train_dir, target_size=(150,150), batch_size=20, class_mode='binary')\n",
    "val_generator = test_datagen.flow_from_directory(val_dir, target_size=(150,150), batch_size=20, class_mode='binary')"
   ]
  },
  {
   "cell_type": "code",
   "execution_count": 7,
   "metadata": {},
   "outputs": [
    {
     "name": "stderr",
     "output_type": "stream",
     "text": [
      "W1021 10:28:56.298695 19948 deprecation_wrapper.py:119] From C:\\Users\\v-nitbal\\AppData\\Local\\Continuum\\anaconda3\\lib\\site-packages\\keras\\backend\\tensorflow_backend.py:986: The name tf.assign_add is deprecated. Please use tf.compat.v1.assign_add instead.\n",
      "\n"
     ]
    },
    {
     "name": "stdout",
     "output_type": "stream",
     "text": [
      "Epoch 1/30\n",
      "100/100 [==============================] - 286s 3s/step - loss: 0.6943 - acc: 0.5375 - val_loss: 0.6766 - val_acc: 0.5860\n",
      "Epoch 2/30\n",
      "100/100 [==============================] - 288s 3s/step - loss: 0.6777 - acc: 0.5725 - val_loss: 0.6603 - val_acc: 0.5840\n",
      "Epoch 3/30\n",
      "100/100 [==============================] - 291s 3s/step - loss: 0.6393 - acc: 0.6285 - val_loss: 0.6552 - val_acc: 0.5980\n",
      "Epoch 4/30\n",
      "100/100 [==============================] - 300s 3s/step - loss: 0.6180 - acc: 0.6540 - val_loss: 0.6874 - val_acc: 0.6120\n",
      "Epoch 5/30\n",
      "100/100 [==============================] - 288s 3s/step - loss: 0.5927 - acc: 0.6680 - val_loss: 0.6375 - val_acc: 0.6500\n",
      "Epoch 6/30\n",
      "100/100 [==============================] - 298s 3s/step - loss: 0.5712 - acc: 0.7080 - val_loss: 0.6962 - val_acc: 0.6240\n",
      "Epoch 7/30\n",
      "100/100 [==============================] - 295s 3s/step - loss: 0.5317 - acc: 0.7380 - val_loss: 0.5943 - val_acc: 0.6690\n",
      "Epoch 8/30\n",
      "100/100 [==============================] - 298s 3s/step - loss: 0.5257 - acc: 0.7335 - val_loss: 0.6640 - val_acc: 0.6530\n",
      "Epoch 9/30\n",
      "100/100 [==============================] - 319s 3s/step - loss: 0.5018 - acc: 0.7435 - val_loss: 0.5886 - val_acc: 0.6720\n",
      "Epoch 10/30\n",
      "100/100 [==============================] - 547s 5s/step - loss: 0.5014 - acc: 0.7440 - val_loss: 0.5864 - val_acc: 0.6950\n",
      "Epoch 11/30\n",
      "100/100 [==============================] - 611s 6s/step - loss: 0.6062 - acc: 0.7195 - val_loss: 0.6195 - val_acc: 0.6690\n",
      "Epoch 12/30\n",
      "100/100 [==============================] - 548s 5s/step - loss: 0.7668 - acc: 0.6730 - val_loss: 1.1149 - val_acc: 0.5950\n",
      "Epoch 13/30\n",
      "100/100 [==============================] - 582s 6s/step - loss: 1.3288 - acc: 0.5755 - val_loss: 2.6396 - val_acc: 0.5160\n",
      "Epoch 14/30\n",
      "100/100 [==============================] - 600s 6s/step - loss: 2.4392 - acc: 0.5715 - val_loss: 6.2085 - val_acc: 0.5030\n",
      "Epoch 15/30\n",
      "100/100 [==============================] - 582s 6s/step - loss: 6.9505 - acc: 0.5010 - val_loss: 8.0548 - val_acc: 0.5000\n",
      "Epoch 16/30\n",
      "100/100 [==============================] - 618s 6s/step - loss: 7.9418 - acc: 0.5030 - val_loss: 8.0595 - val_acc: 0.5000\n",
      "Epoch 17/30\n",
      "100/100 [==============================] - 633s 6s/step - loss: 8.0225 - acc: 0.5015 - val_loss: 8.0751 - val_acc: 0.4990\n",
      "Epoch 18/30\n",
      "100/100 [==============================] - 589s 6s/step - loss: 7.8015 - acc: 0.5130 - val_loss: 8.0450 - val_acc: 0.5000\n",
      "Epoch 19/30\n",
      "100/100 [==============================] - 631s 6s/step - loss: 7.8859 - acc: 0.5075 - val_loss: 8.0645 - val_acc: 0.4990\n",
      "Epoch 20/30\n",
      "100/100 [==============================] - 641s 6s/step - loss: 8.0510 - acc: 0.5005 - val_loss: 8.0645 - val_acc: 0.4990\n",
      "Epoch 21/30\n",
      "100/100 [==============================] - 664s 7s/step - loss: 8.0510 - acc: 0.5005 - val_loss: 8.0645 - val_acc: 0.4990\n",
      "Epoch 22/30\n",
      "100/100 [==============================] - 643s 6s/step - loss: 8.0510 - acc: 0.5005 - val_loss: 8.0645 - val_acc: 0.4990\n",
      "Epoch 23/30\n",
      "100/100 [==============================] - 666s 7s/step - loss: 8.0510 - acc: 0.5005 - val_loss: 8.0645 - val_acc: 0.4990\n",
      "Epoch 24/30\n",
      "100/100 [==============================] - 604s 6s/step - loss: 8.0510 - acc: 0.5005 - val_loss: 8.0645 - val_acc: 0.4990\n",
      "Epoch 25/30\n",
      "100/100 [==============================] - 837s 8s/step - loss: 8.0510 - acc: 0.5005 - val_loss: 8.0645 - val_acc: 0.4990\n",
      "Epoch 26/30\n",
      "100/100 [==============================] - 589s 6s/step - loss: 8.0510 - acc: 0.5005 - val_loss: 8.0645 - val_acc: 0.4990\n",
      "Epoch 27/30\n",
      "100/100 [==============================] - 558s 6s/step - loss: 8.0510 - acc: 0.5005 - val_loss: 8.0645 - val_acc: 0.4990\n",
      "Epoch 28/30\n",
      "100/100 [==============================] - 595s 6s/step - loss: 8.0510 - acc: 0.5005 - val_loss: 8.0645 - val_acc: 0.4990\n",
      "Epoch 29/30\n",
      "100/100 [==============================] - 585s 6s/step - loss: 8.0510 - acc: 0.5005 - val_loss: 8.0645 - val_acc: 0.4990\n",
      "Epoch 30/30\n",
      "100/100 [==============================] - 564s 6s/step - loss: 8.0510 - acc: 0.5005 - val_loss: 8.0645 - val_acc: 0.4990\n"
     ]
    }
   ],
   "source": [
    "history = model.fit_generator(train_generator, steps_per_epoch=100, epochs=30, validation_data=val_generator, \n",
    "                              validation_steps=50)"
   ]
  },
  {
   "cell_type": "code",
   "execution_count": 8,
   "metadata": {},
   "outputs": [],
   "source": [
    "model.save('cats_and_dogs_simple.h5')"
   ]
  },
  {
   "cell_type": "code",
   "execution_count": 10,
   "metadata": {},
   "outputs": [
    {
     "data": {
      "image/png": "[encoded data removed]",
      "text/plain": [
       "<Figure size 432x288 with 1 Axes>"
      ]
     },
     "metadata": {
      "needs_background": "light"
     },
     "output_type": "display_data"
    },
    {
     "data": {
      "image/png": "[encoded data removed]",
      "text/plain": [
       "<Figure size 432x288 with 1 Axes>"
      ]
     },
     "metadata": {
      "needs_background": "light"
     },
     "output_type": "display_data"
    }
   ],
   "source": [
    "#visualize accuracy and loss during training\n",
    "import matplotlib.pyplot as plt\n",
    "\n",
    "acc = history.history['acc']\n",
    "val_acc = history.history['val_acc']\n",
    "loss = history.history['loss']\n",
    "val_loss = history.history['val_loss']\n",
    "\n",
    "epochs = range(1, len(acc)+1)\n",
    "plt.plot(epochs, acc, 'bo', label='Training acc')\n",
    "plt.plot(epochs, val_acc, 'b', label='Validation acc')\n",
    "plt.title('Training and validation accuracy')\n",
    "plt.legend()\n",
    "plt.show()\n",
    "\n",
    "plt.plot(epochs, loss, 'bo', label='Training loss')\n",
    "plt.plot(epochs, val_loss, 'b', label='Validation loss')\n",
    "plt.title('Training and validation loss')\n",
    "plt.legend()\n",
    "plt.show()"
   ]
  }
 ],
 "metadata": {
  "kernelspec": {
   "display_name": "Python 3",
   "language": "python",
   "name": "python3"
  },
  "language_info": {
   "codemirror_mode": {
    "name": "ipython",
    "version": 3
   },
   "file_extension": ".py",
   "mimetype": "text/x-python",
   "name": "python",
   "nbconvert_exporter": "python",
   "pygments_lexer": "ipython3",
   "version": "3.7.3"
  }
 },
 "nbformat": 4,
 "nbformat_minor": 2
}
