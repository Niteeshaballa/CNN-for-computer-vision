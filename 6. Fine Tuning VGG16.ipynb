{
 "cells": [
  {
   "cell_type": "markdown",
   "metadata": {},
   "source": [
    "### Pre-training - Fine tuning VGG16 for cats_vs_dogs dataset"
   ]
  },
  {
   "cell_type": "code",
   "execution_count": 1,
   "metadata": {},
   "outputs": [
    {
     "name": "stderr",
     "output_type": "stream",
     "text": [
      "Using TensorFlow backend.\n"
     ]
    }
   ],
   "source": [
    "import os\n",
    "import numpy as np\n",
    "from keras.preprocessing.image import ImageDataGenerator\n",
    "from keras.applications import VGG16\n",
    "from keras.layers import Dense\n",
    "from keras.layers import Dropout\n",
    "from keras.layers import Flatten\n",
    "from keras.models import Sequential\n",
    "from keras import optimizers"
   ]
  },
  {
   "cell_type": "code",
   "execution_count": 4,
   "metadata": {},
   "outputs": [],
   "source": [
    "conv_base = VGG16(weights='imagenet', include_top=False, input_shape=(150,150,3))"
   ]
  },
  {
   "cell_type": "code",
   "execution_count": 5,
   "metadata": {},
   "outputs": [
    {
     "name": "stdout",
     "output_type": "stream",
     "text": [
      "_________________________________________________________________\n",
      "Layer (type)                 Output Shape              Param #   \n",
      "=================================================================\n",
      "vgg16 (Model)                (None, 4, 4, 512)         14714688  \n",
      "_________________________________________________________________\n",
      "flatten_2 (Flatten)          (None, 8192)              0         \n",
      "_________________________________________________________________\n",
      "dense_3 (Dense)              (None, 256)               2097408   \n",
      "_________________________________________________________________\n",
      "dense_4 (Dense)              (None, 1)                 257       \n",
      "=================================================================\n",
      "Total params: 16,812,353\n",
      "Trainable params: 16,812,353\n",
      "Non-trainable params: 0\n",
      "_________________________________________________________________\n"
     ]
    }
   ],
   "source": [
    "model = Sequential()\n",
    "model.add(conv_base)\n",
    "model.add(Flatten())\n",
    "model.add(Dense(256, activation='relu'))\n",
    "model.add(Dense(1, activation='sigmoid'))\n",
    "model.summary()"
   ]
  },
  {
   "cell_type": "code",
   "execution_count": 6,
   "metadata": {},
   "outputs": [
    {
     "name": "stdout",
     "output_type": "stream",
     "text": [
      "This is the number of trainable weights before freezing the conv base: 30\n"
     ]
    }
   ],
   "source": [
    "print('This is the number of trainable weights before freezing the conv base:', len(model.trainable_weights)) "
   ]
  },
  {
   "cell_type": "code",
   "execution_count": 7,
   "metadata": {},
   "outputs": [],
   "source": [
    "conv_base.trainable=False"
   ]
  },
  {
   "cell_type": "code",
   "execution_count": 8,
   "metadata": {},
   "outputs": [
    {
     "name": "stdout",
     "output_type": "stream",
     "text": [
      "This is the number of trainable weights after freezing the conv base: 4\n"
     ]
    }
   ],
   "source": [
    " print('This is the number of trainable weights after freezing the conv base:', len(model.trainable_weights))"
   ]
  },
  {
   "cell_type": "code",
   "execution_count": 9,
   "metadata": {},
   "outputs": [
    {
     "name": "stdout",
     "output_type": "stream",
     "text": [
      "Found 2000 images belonging to 2 classes.\n",
      "Found 1000 images belonging to 2 classes.\n"
     ]
    }
   ],
   "source": [
    "#generating batches of images from the directories and converting to integers\n",
    "train_dir = r'C:\\Users\\v-nitbal\\Documents\\DL with Python - Francois Chollet\\CNN for computer vision\\cats_and_dogs_small\\train'\n",
    "val_dir = r'C:\\Users\\v-nitbal\\Documents\\DL with Python - Francois Chollet\\CNN for computer vision\\cats_and_dogs_small\\validation'\n",
    "train_datagen = ImageDataGenerator(rescale=1./255, rotation_range=40, width_shift_range=0.2, height_shift_range=0.2, \n",
    "                                  shear_range=0.2, zoom_range=0.2, horizontal_flip=True)\n",
    "test_datagen = ImageDataGenerator(rescale=1./255)\n",
    "\n",
    "train_generator = train_datagen.flow_from_directory(train_dir, target_size=(150,150), batch_size=20, class_mode='binary')\n",
    "val_generator = test_datagen.flow_from_directory(val_dir, target_size=(150,150), batch_size=20, class_mode='binary')"
   ]
  },
  {
   "cell_type": "code",
   "execution_count": 11,
   "metadata": {},
   "outputs": [],
   "source": [
    "model.compile(loss='binary_crossentropy', optimizer=optimizers.RMSprop(lr=2e-5), metrics=['accuracy'])"
   ]
  },
  {
   "cell_type": "code",
   "execution_count": 12,
   "metadata": {},
   "outputs": [
    {
     "name": "stdout",
     "output_type": "stream",
     "text": [
      "Epoch 1/10\n",
      "100/100 [==============================] - 2317s 23s/step - loss: 0.5995 - acc: 0.6780 - val_loss: 0.4507 - val_acc: 0.8310\n",
      "Epoch 2/10\n",
      "100/100 [==============================] - 2466s 25s/step - loss: 0.4859 - acc: 0.7805 - val_loss: 0.3731 - val_acc: 0.8610\n",
      "Epoch 3/10\n",
      "100/100 [==============================] - 2214s 22s/step - loss: 0.4434 - acc: 0.7955 - val_loss: 0.3339 - val_acc: 0.8760\n",
      "Epoch 4/10\n",
      "100/100 [==============================] - 2453s 25s/step - loss: 0.4026 - acc: 0.8250 - val_loss: 0.3113 - val_acc: 0.8870\n",
      "Epoch 5/10\n",
      "100/100 [==============================] - 2414s 24s/step - loss: 0.3910 - acc: 0.8260 - val_loss: 0.2934 - val_acc: 0.8860\n",
      "Epoch 6/10\n",
      "100/100 [==============================] - 2232s 22s/step - loss: 0.3656 - acc: 0.8355 - val_loss: 0.3035 - val_acc: 0.8760\n",
      "Epoch 7/10\n",
      "100/100 [==============================] - 2154s 22s/step - loss: 0.3612 - acc: 0.8290 - val_loss: 0.2782 - val_acc: 0.8900\n",
      "Epoch 8/10\n",
      "100/100 [==============================] - 2355s 24s/step - loss: 0.3435 - acc: 0.8530 - val_loss: 0.2781 - val_acc: 0.8840\n",
      "Epoch 9/10\n",
      "100/100 [==============================] - 2493s 25s/step - loss: 0.3437 - acc: 0.8470 - val_loss: 0.2640 - val_acc: 0.8970\n",
      "Epoch 10/10\n",
      "100/100 [==============================] - 2594s 26s/step - loss: 0.3345 - acc: 0.8445 - val_loss: 0.2596 - val_acc: 0.9020\n"
     ]
    }
   ],
   "source": [
    "history = model.fit_generator(train_generator, steps_per_epoch=100, epochs=10, validation_data=val_generator, \n",
    "                              validation_steps=50)"
   ]
  },
  {
   "cell_type": "code",
   "execution_count": 16,
   "metadata": {},
   "outputs": [],
   "source": [
    "conv_base.trainable = True\n",
    "set_trainable = False\n",
    "for layer in conv_base.layers:\n",
    "    if layer.name == 'block5_conv1':\n",
    "        set_trainable=True\n",
    "    if set_trainable:\n",
    "        layer.trainable=True\n",
    "    else:\n",
    "        layer.trainable=False"
   ]
  },
  {
   "cell_type": "code",
   "execution_count": 17,
   "metadata": {},
   "outputs": [],
   "source": [
    "model.compile(loss='binary_crossentropy', optimizer=optimizers.RMSprop(lr=2e-5), metrics=['accuracy'])"
   ]
  },
  {
   "cell_type": "code",
   "execution_count": 18,
   "metadata": {},
   "outputs": [
    {
     "name": "stdout",
     "output_type": "stream",
     "text": [
      "Epoch 1/10\n",
      "100/100 [==============================] - 2482s 25s/step - loss: 0.3407 - acc: 0.8475 - val_loss: 0.2213 - val_acc: 0.9180\n",
      "Epoch 2/10\n",
      "100/100 [==============================] - 2282s 23s/step - loss: 0.2853 - acc: 0.8690 - val_loss: 0.1961 - val_acc: 0.9210\n",
      "Epoch 3/10\n",
      "100/100 [==============================] - 2275s 23s/step - loss: 0.2521 - acc: 0.8965 - val_loss: 0.1970 - val_acc: 0.9150\n",
      "Epoch 4/10\n",
      "100/100 [==============================] - 2471s 25s/step - loss: 0.2115 - acc: 0.9080 - val_loss: 0.1994 - val_acc: 0.9200\n",
      "Epoch 5/10\n",
      "100/100 [==============================] - 2283s 23s/step - loss: 0.2298 - acc: 0.9060 - val_loss: 0.1911 - val_acc: 0.9210\n",
      "Epoch 6/10\n",
      "100/100 [==============================] - 2347s 23s/step - loss: 0.1863 - acc: 0.9230 - val_loss: 0.2503 - val_acc: 0.9010\n",
      "Epoch 7/10\n",
      "100/100 [==============================] - 2289s 23s/step - loss: 0.1779 - acc: 0.9230 - val_loss: 0.1880 - val_acc: 0.9330\n",
      "Epoch 8/10\n",
      "100/100 [==============================] - 2281s 23s/step - loss: 0.1689 - acc: 0.9295 - val_loss: 0.1920 - val_acc: 0.9240\n",
      "Epoch 9/10\n",
      "100/100 [==============================] - 2271s 23s/step - loss: 0.1584 - acc: 0.9355 - val_loss: 0.3543 - val_acc: 0.8850\n",
      "Epoch 10/10\n",
      "100/100 [==============================] - 2283s 23s/step - loss: 0.1314 - acc: 0.9450 - val_loss: 0.1734 - val_acc: 0.9350\n"
     ]
    }
   ],
   "source": [
    "history = model.fit_generator(train_generator, steps_per_epoch=100, epochs=10, validation_data=val_generator, \n",
    "                              validation_steps=50)"
   ]
  },
  {
   "cell_type": "code",
   "execution_count": 19,
   "metadata": {},
   "outputs": [],
   "source": [
    "model.save('6. Fine Tuning VGG16.h5')"
   ]
  },
  {
   "cell_type": "code",
   "execution_count": 21,
   "metadata": {},
   "outputs": [
    {
     "data": {
      "image/png": "[encoded data removed]",
      "text/plain": [
       "<Figure size 432x288 with 1 Axes>"
      ]
     },
     "metadata": {
      "needs_background": "light"
     },
     "output_type": "display_data"
    },
    {
     "data": {
      "image/png": "[encoded data removed]",
      "text/plain": [
       "<Figure size 432x288 with 1 Axes>"
      ]
     },
     "metadata": {
      "needs_background": "light"
     },
     "output_type": "display_data"
    }
   ],
   "source": [
    "#visualize accuracy and loss during training\n",
    "import matplotlib.pyplot as plt\n",
    "\n",
    "acc = history.history['acc']\n",
    "val_acc = history.history['val_acc']\n",
    "loss = history.history['loss']\n",
    "val_loss = history.history['val_loss']\n",
    "\n",
    "epochs = range(1, len(acc)+1)\n",
    "plt.plot(epochs, acc, 'bo', label='Training acc')\n",
    "plt.plot(epochs, val_acc, 'b', label='Validation acc')\n",
    "plt.title('Training and validation accuracy')\n",
    "plt.legend()\n",
    "plt.show()\n",
    "\n",
    "plt.plot(epochs, loss, 'bo', label='Training loss')\n",
    "plt.plot(epochs, val_loss, 'b', label='Validation loss')\n",
    "plt.title('Training and validation loss')\n",
    "plt.legend()\n",
    "plt.show()"
   ]
  },
  {
   "cell_type": "code",
   "execution_count": 22,
   "metadata": {},
   "outputs": [
    {
     "name": "stdout",
     "output_type": "stream",
     "text": [
      "Found 1000 images belonging to 2 classes.\n",
      "test accuracy:  0.9249999976158142\n"
     ]
    }
   ],
   "source": [
    "#testing the model\n",
    "test_dir = r'C:\\Users\\v-nitbal\\Documents\\DL with Python - Francois Chollet\\CNN for computer vision\\cats_and_dogs_small\\test'\n",
    "test_generator = test_datagen.flow_from_directory(test_dir, target_size=(150,150), batch_size=20, class_mode='binary')\n",
    "test_loss, test_acc = model.evaluate_generator(test_generator, steps=50)\n",
    "print('test accuracy: ', test_acc)"
   ]
  }
 ],
 "metadata": {
  "kernelspec": {
   "display_name": "Python 3",
   "language": "python",
   "name": "python3"
  },
  "language_info": {
   "codemirror_mode": {
    "name": "ipython",
    "version": 3
   },
   "file_extension": ".py",
   "mimetype": "text/x-python",
   "name": "python",
   "nbconvert_exporter": "python",
   "pygments_lexer": "ipython3",
   "version": "3.7.3"
  }
 },
 "nbformat": 4,
 "nbformat_minor": 2
}
