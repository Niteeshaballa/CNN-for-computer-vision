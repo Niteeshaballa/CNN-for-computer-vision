{
 "cells": [
  {
   "cell_type": "markdown",
   "metadata": {},
   "source": [
    "### CNN Model for cats vs dogs classification using Data augmentation and dropout before dense layers"
   ]
  },
  {
   "cell_type": "code",
   "execution_count": 1,
   "metadata": {},
   "outputs": [
    {
     "name": "stderr",
     "output_type": "stream",
     "text": [
      "Using TensorFlow backend.\n"
     ]
    }
   ],
   "source": [
    "from keras.models import Sequential\n",
    "from keras.layers import Dense\n",
    "from keras.layers import Conv2D\n",
    "from keras.layers import MaxPooling2D\n",
    "from keras.layers import Flatten\n",
    "from keras.layers import Dropout\n",
    "from keras import optimizers\n",
    "from keras.preprocessing.image import ImageDataGenerator"
   ]
  },
  {
   "cell_type": "code",
   "execution_count": 4,
   "metadata": {},
   "outputs": [],
   "source": [
    "model = Sequential()\n",
    "model.add(Conv2D(32, (3,3), activation='relu', input_shape=(150,150,3)))\n",
    "model.add(MaxPooling2D((2,2)))\n",
    "model.add(Conv2D(64, (3,3), activation='relu'))\n",
    "model.add(MaxPooling2D((2,2)))\n",
    "model.add(Conv2D(128, (3,3), activation='relu'))\n",
    "model.add(MaxPooling2D((2,2)))\n",
    "model.add(Conv2D(128, (3,3), activation='relu'))\n",
    "model.add(MaxPooling2D((2,2)))\n",
    "model.add(Flatten())\n",
    "model.add(Dropout(0.5))\n",
    "model.add(Dense(512, activation='relu'))\n",
    "model.add(Dense(1, activation='sigmoid'))"
   ]
  },
  {
   "cell_type": "code",
   "execution_count": 5,
   "metadata": {},
   "outputs": [],
   "source": [
    "model.compile(loss='binary_crossentropy', optimizer=optimizers.RMSprop(lr=1e-4), metrics=['accuracy'])"
   ]
  },
  {
   "cell_type": "code",
   "execution_count": 6,
   "metadata": {},
   "outputs": [
    {
     "name": "stdout",
     "output_type": "stream",
     "text": [
      "Found 2000 images belonging to 2 classes.\n",
      "Found 1000 images belonging to 2 classes.\n"
     ]
    }
   ],
   "source": [
    "#generating batches of images from the directories and converting to integers\n",
    "train_dir = r'C:\\Users\\v-nitbal\\Documents\\DL with Python - Francois Chollet\\CNN for computer vision\\cats_and_dogs_small\\train'\n",
    "val_dir = r'C:\\Users\\v-nitbal\\Documents\\DL with Python - Francois Chollet\\CNN for computer vision\\cats_and_dogs_small\\validation'\n",
    "train_datagen = ImageDataGenerator(rescale=1./255, rotation_range=40, width_shift_range=0.2, height_shift_range=0.2, \n",
    "                                  shear_range=0.2, zoom_range=0.2, horizontal_flip=True)\n",
    "test_datagen = ImageDataGenerator(rescale=1./255)\n",
    "\n",
    "train_generator = train_datagen.flow_from_directory(train_dir, target_size=(150,150), batch_size=32, class_mode='binary')\n",
    "val_generator = test_datagen.flow_from_directory(val_dir, target_size=(150,150), batch_size=32, class_mode='binary')"
   ]
  },
  {
   "cell_type": "code",
   "execution_count": 7,
   "metadata": {},
   "outputs": [
    {
     "name": "stdout",
     "output_type": "stream",
     "text": [
      "Epoch 1/100\n",
      "100/100 [==============================] - 926s 9s/step - loss: 1.1397 - acc: 0.5228 - val_loss: 1.1648 - val_acc: 0.5032\n",
      "Epoch 2/100\n",
      "100/100 [==============================] - 874s 9s/step - loss: 1.3557 - acc: 0.5025 - val_loss: 0.7094 - val_acc: 0.5213\n",
      "Epoch 3/100\n",
      "100/100 [==============================] - 868s 9s/step - loss: 1.0642 - acc: 0.5059 - val_loss: 0.7085 - val_acc: 0.5019\n",
      "Epoch 4/100\n",
      "100/100 [==============================] - 940s 9s/step - loss: 0.8208 - acc: 0.4978 - val_loss: 0.6932 - val_acc: 0.4865\n",
      "Epoch 5/100\n",
      "100/100 [==============================] - 927s 9s/step - loss: 0.9241 - acc: 0.5122 - val_loss: 0.6931 - val_acc: 0.5165\n",
      "Epoch 6/100\n",
      "100/100 [==============================] - 953s 10s/step - loss: 0.9545 - acc: 0.5181 - val_loss: 0.6931 - val_acc: 0.5000\n",
      "Epoch 7/100\n",
      "100/100 [==============================] - 940s 9s/step - loss: 1.2139 - acc: 0.5116 - val_loss: 0.6932 - val_acc: 0.4930\n",
      "Epoch 8/100\n",
      "100/100 [==============================] - 1044s 10s/step - loss: 1.1326 - acc: 0.5050 - val_loss: 0.6931 - val_acc: 0.5122\n",
      "Epoch 9/100\n",
      "100/100 [==============================] - 981s 10s/step - loss: 1.1407 - acc: 0.5150 - val_loss: 0.6932 - val_acc: 0.4916\n",
      "Epoch 10/100\n",
      "100/100 [==============================] - 1079s 11s/step - loss: 1.2953 - acc: 0.5103 - val_loss: 0.6932 - val_acc: 0.4968\n",
      "Epoch 11/100\n",
      "100/100 [==============================] - 1024s 10s/step - loss: 1.2604 - acc: 0.5066 - val_loss: 0.6932 - val_acc: 0.5006\n",
      "Epoch 12/100\n",
      "100/100 [==============================] - 853s 9s/step - loss: 1.4075 - acc: 0.5169 - val_loss: 0.6931 - val_acc: 0.5032\n",
      "Epoch 13/100\n",
      "100/100 [==============================] - 900s 9s/step - loss: 1.3953 - acc: 0.5069 - val_loss: 0.6932 - val_acc: 0.4948\n",
      "Epoch 14/100\n",
      "100/100 [==============================] - 717s 7s/step - loss: 1.5652 - acc: 0.5066 - val_loss: 0.6931 - val_acc: 0.5063\n",
      "Epoch 15/100\n",
      "100/100 [==============================] - 442s 4s/step - loss: 1.6696 - acc: 0.5081 - val_loss: 0.6932 - val_acc: 0.4961\n",
      "Epoch 16/100\n",
      "100/100 [==============================] - 440s 4s/step - loss: 1.1633 - acc: 0.5050 - val_loss: 0.6932 - val_acc: 0.5013\n",
      "Epoch 17/100\n",
      "100/100 [==============================] - 441s 4s/step - loss: 1.3193 - acc: 0.5144 - val_loss: 0.6932 - val_acc: 0.4962\n",
      "Epoch 18/100\n",
      "100/100 [==============================] - 440s 4s/step - loss: 1.3996 - acc: 0.5075 - val_loss: 0.6932 - val_acc: 0.4981\n",
      "Epoch 19/100\n",
      "100/100 [==============================] - 443s 4s/step - loss: 1.1712 - acc: 0.5109 - val_loss: 0.6932 - val_acc: 0.4987\n",
      "Epoch 20/100\n",
      "100/100 [==============================] - 488s 5s/step - loss: 1.1913 - acc: 0.5156 - val_loss: 0.6931 - val_acc: 0.5045\n",
      "Epoch 21/100\n",
      "100/100 [==============================] - 900s 9s/step - loss: 1.2676 - acc: 0.5056 - val_loss: 0.6931 - val_acc: 0.5038\n",
      "Epoch 22/100\n",
      "100/100 [==============================] - 1318s 13s/step - loss: 1.4742 - acc: 0.5119 - val_loss: 0.6933 - val_acc: 0.4929\n",
      "Epoch 23/100\n",
      "100/100 [==============================] - 1319s 13s/step - loss: 1.4773 - acc: 0.5134 - val_loss: 0.6931 - val_acc: 0.5063\n",
      "Epoch 24/100\n",
      "100/100 [==============================] - 1333s 13s/step - loss: 1.4098 - acc: 0.5091 - val_loss: 0.6930 - val_acc: 0.5077\n",
      "Epoch 25/100\n",
      "100/100 [==============================] - 1349s 13s/step - loss: 2.0213 - acc: 0.5237 - val_loss: 0.6934 - val_acc: 0.4916\n",
      "Epoch 26/100\n",
      "100/100 [==============================] - 1459s 15s/step - loss: 1.5380 - acc: 0.5053 - val_loss: 0.6932 - val_acc: 0.4987\n",
      "Epoch 27/100\n",
      "100/100 [==============================] - 1379s 14s/step - loss: 1.4603 - acc: 0.5094 - val_loss: 0.6932 - val_acc: 0.4987\n",
      "Epoch 28/100\n",
      "100/100 [==============================] - 1289s 13s/step - loss: 1.2444 - acc: 0.5009 - val_loss: 0.6930 - val_acc: 0.5095\n",
      "Epoch 29/100\n",
      "100/100 [==============================] - 1399s 14s/step - loss: 1.3535 - acc: 0.5075 - val_loss: 0.6935 - val_acc: 0.4826\n",
      "Epoch 30/100\n",
      "100/100 [==============================] - 1386s 14s/step - loss: 1.7525 - acc: 0.5088 - val_loss: 0.6930 - val_acc: 0.5095\n",
      "Epoch 31/100\n",
      "100/100 [==============================] - 1279s 13s/step - loss: 1.3166 - acc: 0.5112 - val_loss: 0.6932 - val_acc: 0.5019\n",
      "Epoch 32/100\n",
      "100/100 [==============================] - 1257s 13s/step - loss: 1.3462 - acc: 0.5169 - val_loss: 0.6932 - val_acc: 0.4987\n",
      "Epoch 33/100\n",
      "100/100 [==============================] - 1257s 13s/step - loss: 1.7375 - acc: 0.5012 - val_loss: 0.6932 - val_acc: 0.4975\n",
      "Epoch 34/100\n",
      "100/100 [==============================] - 1268s 13s/step - loss: 1.3021 - acc: 0.5044 - val_loss: 0.6932 - val_acc: 0.5019\n",
      "Epoch 35/100\n",
      "100/100 [==============================] - 1273s 13s/step - loss: 1.1861 - acc: 0.5066 - val_loss: 0.6934 - val_acc: 0.4905\n",
      "Epoch 36/100\n",
      "100/100 [==============================] - 1257s 13s/step - loss: 1.3039 - acc: 0.5053 - val_loss: 0.6930 - val_acc: 0.5122\n",
      "Epoch 37/100\n",
      "100/100 [==============================] - 1267s 13s/step - loss: 1.3649 - acc: 0.5084 - val_loss: 0.6931 - val_acc: 0.5038\n",
      "Epoch 38/100\n",
      "100/100 [==============================] - 1264s 13s/step - loss: 1.5657 - acc: 0.5041 - val_loss: 0.6934 - val_acc: 0.4890\n",
      "Epoch 39/100\n",
      "100/100 [==============================] - 1277s 13s/step - loss: 1.2891 - acc: 0.5116 - val_loss: 0.6931 - val_acc: 0.5051\n",
      "Epoch 40/100\n",
      "100/100 [==============================] - 1270s 13s/step - loss: 1.2046 - acc: 0.5128 - val_loss: 0.6931 - val_acc: 0.5026\n",
      "Epoch 41/100\n",
      "100/100 [==============================] - 1258s 13s/step - loss: 1.1308 - acc: 0.5050 - val_loss: 0.6932 - val_acc: 0.4981\n",
      "Epoch 42/100\n",
      "100/100 [==============================] - 1268s 13s/step - loss: 1.2280 - acc: 0.5022 - val_loss: 0.6931 - val_acc: 0.5063\n",
      "Epoch 43/100\n",
      "100/100 [==============================] - 1259s 13s/step - loss: 1.2821 - acc: 0.5006 - val_loss: 0.6935 - val_acc: 0.4852\n",
      "Epoch 44/100\n",
      "100/100 [==============================] - 1271s 13s/step - loss: 1.3011 - acc: 0.5106 - val_loss: 0.6930 - val_acc: 0.5076\n",
      "Epoch 45/100\n",
      "100/100 [==============================] - 1266s 13s/step - loss: 1.2633 - acc: 0.5063 - val_loss: 0.6931 - val_acc: 0.5032\n",
      "Epoch 46/100\n",
      "100/100 [==============================] - 1267s 13s/step - loss: 1.2701 - acc: 0.5059 - val_loss: 0.6932 - val_acc: 0.4981\n",
      "Epoch 47/100\n",
      "100/100 [==============================] - 940s 9s/step - loss: 1.3568 - acc: 0.5063 - val_loss: 0.6933 - val_acc: 0.4942\n",
      "Epoch 48/100\n",
      "100/100 [==============================] - 443s 4s/step - loss: 1.2076 - acc: 0.5147 - val_loss: 0.6931 - val_acc: 0.5045\n",
      "Epoch 49/100\n",
      "100/100 [==============================] - 444s 4s/step - loss: 1.7368 - acc: 0.4997 - val_loss: 0.6931 - val_acc: 0.5032\n",
      "Epoch 50/100\n",
      "100/100 [==============================] - 441s 4s/step - loss: 1.6409 - acc: 0.4853 - val_loss: 0.6934 - val_acc: 0.4897\n",
      "Epoch 51/100\n",
      "100/100 [==============================] - 446s 4s/step - loss: 1.1491 - acc: 0.5181 - val_loss: 0.6930 - val_acc: 0.5108\n",
      "Epoch 52/100\n",
      "100/100 [==============================] - 441s 4s/step - loss: 2.1935 - acc: 0.5025 - val_loss: 0.6933 - val_acc: 0.4948\n",
      "Epoch 53/100\n",
      "100/100 [==============================] - 442s 4s/step - loss: 1.9974 - acc: 0.4950 - val_loss: 0.6931 - val_acc: 0.5032\n",
      "Epoch 54/100\n",
      "100/100 [==============================] - 443s 4s/step - loss: 1.4396 - acc: 0.5097 - val_loss: 0.6933 - val_acc: 0.4923\n",
      "Epoch 55/100\n",
      "100/100 [==============================] - 472s 5s/step - loss: 1.0485 - acc: 0.5075 - val_loss: 0.6930 - val_acc: 0.5089\n",
      "Epoch 56/100\n",
      "100/100 [==============================] - 493s 5s/step - loss: 1.1022 - acc: 0.5022 - val_loss: 0.6935 - val_acc: 0.4852\n",
      "Epoch 57/100\n",
      "100/100 [==============================] - 537s 5s/step - loss: 1.5179 - acc: 0.4937 - val_loss: 0.6930 - val_acc: 0.5077\n",
      "Epoch 58/100\n",
      "100/100 [==============================] - 476s 5s/step - loss: 1.5346 - acc: 0.5213 - val_loss: 0.6929 - val_acc: 0.5140\n",
      "Epoch 59/100\n",
      "100/100 [==============================] - 487s 5s/step - loss: 1.3486 - acc: 0.5038 - val_loss: 0.6934 - val_acc: 0.4890\n",
      "Epoch 60/100\n",
      "100/100 [==============================] - 495s 5s/step - loss: 1.4297 - acc: 0.5084 - val_loss: 0.6932 - val_acc: 0.4981\n",
      "Epoch 61/100\n"
     ]
    },
    {
     "name": "stdout",
     "output_type": "stream",
     "text": [
      "100/100 [==============================] - 486s 5s/step - loss: 1.2457 - acc: 0.5022 - val_loss: 0.6931 - val_acc: 0.5058\n",
      "Epoch 62/100\n",
      "100/100 [==============================] - 441s 4s/step - loss: 1.3549 - acc: 0.5112 - val_loss: 0.6933 - val_acc: 0.4943\n",
      "Epoch 63/100\n",
      "100/100 [==============================] - 439s 4s/step - loss: 1.0851 - acc: 0.4950 - val_loss: 0.6932 - val_acc: 0.5013\n",
      "Epoch 64/100\n",
      "100/100 [==============================] - 446s 4s/step - loss: 0.9979 - acc: 0.5059 - val_loss: 0.6932 - val_acc: 0.5013\n",
      "Epoch 65/100\n",
      "100/100 [==============================] - 448s 4s/step - loss: 1.0473 - acc: 0.5047 - val_loss: 0.6932 - val_acc: 0.4987\n",
      "Epoch 66/100\n",
      "100/100 [==============================] - 444s 4s/step - loss: 1.0882 - acc: 0.5037 - val_loss: 0.6932 - val_acc: 0.5006\n",
      "Epoch 67/100\n",
      "100/100 [==============================] - 441s 4s/step - loss: 1.0084 - acc: 0.5090 - val_loss: 0.6931 - val_acc: 0.5038\n",
      "Epoch 68/100\n",
      "100/100 [==============================] - 448s 4s/step - loss: 1.3700 - acc: 0.5078 - val_loss: 0.6932 - val_acc: 0.4994\n",
      "Epoch 69/100\n",
      "100/100 [==============================] - 443s 4s/step - loss: 1.4693 - acc: 0.4991 - val_loss: 0.6933 - val_acc: 0.4962\n",
      "Epoch 70/100\n",
      "100/100 [==============================] - 442s 4s/step - loss: 1.2456 - acc: 0.4956 - val_loss: 0.6922 - val_acc: 0.5045\n",
      "Epoch 71/100\n",
      "100/100 [==============================] - 446s 4s/step - loss: 1.9989 - acc: 0.4900 - val_loss: 0.6932 - val_acc: 0.5006\n",
      "Epoch 72/100\n",
      "100/100 [==============================] - 442s 4s/step - loss: 1.4327 - acc: 0.5034 - val_loss: 0.6932 - val_acc: 0.5006\n",
      "Epoch 73/100\n",
      "100/100 [==============================] - 445s 4s/step - loss: 1.1273 - acc: 0.5006 - val_loss: 0.6933 - val_acc: 0.4929\n",
      "Epoch 74/100\n",
      "100/100 [==============================] - 443s 4s/step - loss: 1.2288 - acc: 0.5075 - val_loss: 0.6929 - val_acc: 0.5140\n",
      "Epoch 75/100\n",
      "100/100 [==============================] - 441s 4s/step - loss: 1.1655 - acc: 0.5069 - val_loss: 0.6934 - val_acc: 0.4903\n",
      "Epoch 76/100\n",
      "100/100 [==============================] - 454s 5s/step - loss: 1.1039 - acc: 0.5022 - val_loss: 0.6932 - val_acc: 0.4994\n",
      "Epoch 77/100\n",
      "100/100 [==============================] - 445s 4s/step - loss: 1.1945 - acc: 0.5056 - val_loss: 0.6931 - val_acc: 0.5026\n",
      "Epoch 78/100\n",
      "100/100 [==============================] - 444s 4s/step - loss: 1.3745 - acc: 0.5135 - val_loss: 0.6932 - val_acc: 0.4994\n",
      "Epoch 79/100\n",
      "100/100 [==============================] - 440s 4s/step - loss: 1.3855 - acc: 0.5044 - val_loss: 0.6932 - val_acc: 0.4987\n",
      "Epoch 80/100\n",
      "100/100 [==============================] - 441s 4s/step - loss: 1.3554 - acc: 0.5022 - val_loss: 0.6932 - val_acc: 0.4994\n",
      "Epoch 81/100\n",
      "100/100 [==============================] - 443s 4s/step - loss: 1.4955 - acc: 0.5103 - val_loss: 0.6933 - val_acc: 0.4956\n",
      "Epoch 82/100\n",
      "100/100 [==============================] - 443s 4s/step - loss: 1.5401 - acc: 0.5044 - val_loss: 0.6917 - val_acc: 0.5090\n",
      "Epoch 83/100\n",
      "100/100 [==============================] - 446s 4s/step - loss: 1.8596 - acc: 0.5050 - val_loss: 0.6920 - val_acc: 0.4949\n",
      "Epoch 84/100\n",
      "100/100 [==============================] - 441s 4s/step - loss: 2.8667 - acc: 0.5044 - val_loss: 0.7067 - val_acc: 0.5251\n",
      "Epoch 85/100\n",
      "100/100 [==============================] - 456s 5s/step - loss: 1.8044 - acc: 0.5141 - val_loss: 0.6919 - val_acc: 0.5006\n",
      "Epoch 86/100\n",
      "100/100 [==============================] - 442s 4s/step - loss: 1.4961 - acc: 0.4981 - val_loss: 0.6922 - val_acc: 0.5045\n",
      "Epoch 87/100\n",
      "100/100 [==============================] - 443s 4s/step - loss: 1.7401 - acc: 0.5075 - val_loss: 0.6915 - val_acc: 0.5000\n",
      "Epoch 88/100\n",
      "100/100 [==============================] - 445s 4s/step - loss: 1.7478 - acc: 0.5087 - val_loss: 0.6919 - val_acc: 0.4974\n",
      "Epoch 89/100\n",
      "100/100 [==============================] - 443s 4s/step - loss: 1.5679 - acc: 0.5066 - val_loss: 0.6931 - val_acc: 0.5052\n",
      "Epoch 90/100\n",
      "100/100 [==============================] - 447s 4s/step - loss: 1.5473 - acc: 0.4891 - val_loss: 0.6930 - val_acc: 0.5102\n",
      "Epoch 91/100\n",
      "100/100 [==============================] - 443s 4s/step - loss: 1.7234 - acc: 0.5031 - val_loss: 0.6933 - val_acc: 0.4936\n",
      "Epoch 92/100\n",
      "100/100 [==============================] - 444s 4s/step - loss: 2.6855 - acc: 0.5085 - val_loss: 2.3636 - val_acc: 0.4949\n",
      "Epoch 93/100\n",
      "100/100 [==============================] - 445s 4s/step - loss: 2.2266 - acc: 0.5056 - val_loss: 0.6932 - val_acc: 0.4968\n",
      "Epoch 94/100\n",
      "100/100 [==============================] - 443s 4s/step - loss: 1.3347 - acc: 0.5065 - val_loss: 0.6931 - val_acc: 0.5025\n",
      "Epoch 95/100\n",
      "100/100 [==============================] - 444s 4s/step - loss: 1.5119 - acc: 0.5078 - val_loss: 0.6931 - val_acc: 0.5064\n",
      "Epoch 96/100\n",
      "100/100 [==============================] - 442s 4s/step - loss: 1.5354 - acc: 0.5100 - val_loss: 0.6933 - val_acc: 0.4961\n",
      "Epoch 97/100\n",
      "100/100 [==============================] - 444s 4s/step - loss: 1.7571 - acc: 0.5038 - val_loss: 0.6931 - val_acc: 0.5070\n",
      "Epoch 98/100\n",
      "100/100 [==============================] - 443s 4s/step - loss: 1.7572 - acc: 0.5128 - val_loss: 0.6934 - val_acc: 0.4910\n",
      "Epoch 99/100\n",
      "100/100 [==============================] - 444s 4s/step - loss: 2.2528 - acc: 0.4959 - val_loss: 0.6932 - val_acc: 0.5006\n",
      "Epoch 100/100\n",
      "100/100 [==============================] - 452s 5s/step - loss: 1.5842 - acc: 0.5153 - val_loss: 0.6932 - val_acc: 0.4994\n"
     ]
    }
   ],
   "source": [
    "history = model.fit_generator(train_generator, steps_per_epoch=100, epochs=100, validation_data=val_generator, \n",
    "                              validation_steps=50)"
   ]
  },
  {
   "cell_type": "code",
   "execution_count": 8,
   "metadata": {},
   "outputs": [],
   "source": [
    "model.save('cats_and_dogs__with_dataaugmentation.h5')"
   ]
  },
  {
   "cell_type": "code",
   "execution_count": 10,
   "metadata": {},
   "outputs": [
    {
     "data": {
      "image/png": "[encoded data removed]",
      "text/plain": [
       "<Figure size 432x288 with 1 Axes>"
      ]
     },
     "metadata": {
      "needs_background": "light"
     },
     "output_type": "display_data"
    },
    {
     "data": {
      "image/png": "[encoded data removed]",
      "text/plain": [
       "<Figure size 432x288 with 1 Axes>"
      ]
     },
     "metadata": {
      "needs_background": "light"
     },
     "output_type": "display_data"
    }
   ],
   "source": [
    "#visualize accuracy and loss during training\n",
    "import matplotlib.pyplot as plt\n",
    "\n",
    "acc = history.history['acc']\n",
    "val_acc = history.history['val_acc']\n",
    "loss = history.history['loss']\n",
    "val_loss = history.history['val_loss']\n",
    "\n",
    "epochs = range(1, len(acc)+1)\n",
    "plt.plot(epochs, acc, 'bo', label='Training acc')\n",
    "plt.plot(epochs, val_acc, 'b', label='Validation acc')\n",
    "plt.title('Training and validation accuracy')\n",
    "plt.legend()\n",
    "plt.show()\n",
    "\n",
    "plt.plot(epochs, loss, 'bo', label='Training loss')\n",
    "plt.plot(epochs, val_loss, 'b', label='Validation loss')\n",
    "plt.title('Training and validation loss')\n",
    "plt.legend()\n",
    "plt.show()"
   ]
  }
 ],
 "metadata": {
  "kernelspec": {
   "display_name": "Python 3",
   "language": "python",
   "name": "python3"
  },
  "language_info": {
   "codemirror_mode": {
    "name": "ipython",
    "version": 3
   },
   "file_extension": ".py",
   "mimetype": "text/x-python",
   "name": "python",
   "nbconvert_exporter": "python",
   "pygments_lexer": "ipython3",
   "version": "3.7.3"
  }
 },
 "nbformat": 4,
 "nbformat_minor": 2
}
